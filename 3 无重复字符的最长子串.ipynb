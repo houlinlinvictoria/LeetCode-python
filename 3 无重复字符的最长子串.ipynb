{
 "cells": [
  {
   "cell_type": "code",
   "execution_count": 57,
   "metadata": {},
   "outputs": [
    {
     "name": "stdout",
     "output_type": "stream",
     "text": [
      "3\n",
      "1\n",
      "3\n",
      "8\n",
      "7\n",
      "8\n"
     ]
    }
   ],
   "source": [
    "# 3.无重复字符的最长子串\n",
    "# 给定一个字符串 s ，找出其中不含有重复字符的最长子串的长度。只需要返回最大长度即可   (子串是原来字符串中连续的一段)\n",
    "#示例 输入: s = \"abcabcbb\" 输出: 3， 解释: 因为无重复字符的最长子串是 \"abc\"，所以其长度为 3。\n",
    "\n",
    "\n",
    "#法1：暴力方法，遍历，找出所有子串，看其中有无重复字符。时间复杂度为 O(n*n)\n",
    "def f(s):\n",
    "    list = []\n",
    "    for i in range(len(s)):\n",
    "        for j in range(i,len(s)):\n",
    "            sub = s[i:j+1]    # s[i:j+1] 表示截取字符串s中索引i至索引j的元素\n",
    "            if len(set(sub)) == len(sub):   # set()\n",
    "                list.append(len(sub))\n",
    "    return max(list)\n",
    "\n",
    "s = \"abcabcbb\"\n",
    "s1 = \"bbbbb\"\n",
    "s2 = \"pwwkew\"\n",
    "s3 = '1203wkds'\n",
    "s4 = '3234235khjkjg'\n",
    "print(f(s))\n",
    "print(f(s1))\n",
    "print(f(s2))\n",
    "print(f(s3))\n",
    "print(f(s4))\n",
    "s5 = 'lalal1234565432qwewww7789'\n",
    "print(f(s5))"
   ]
  },
  {
   "cell_type": "code",
   "execution_count": 56,
   "metadata": {},
   "outputs": [
    {
     "name": "stdout",
     "output_type": "stream",
     "text": [
      "3\n",
      "1\n",
      "3\n",
      "8\n",
      "7\n",
      "8\n"
     ]
    }
   ],
   "source": [
    "#法2：滑动窗口法，时间复杂度为 O(n)\n",
    "# 使用两个指针，start 和 end，来维护一个滑动窗口，表示当前考察的子串。\n",
    "# 遍历字符串时，如果字符已经在当前子串中出现，将窗口起始位置 start 指针移动到窗口中的第一个重复字符的下一个位置，然后计算当前子串(即窗口)的长度并更新最大子串长度\n",
    "\n",
    "def g(s):\n",
    "    start = 0 # 子串中的滑动窗口的起始位置，会跳跃  # end也从 0 开始，end从字符串依次增加， end为原来字符串的结束位置\n",
    "    max_length = 0 # 最长子串的长度\n",
    "    sub_length = [] # 储存所有不重复连续子串的长度\n",
    "    sub = '' #子串从空依次增加一个字符，如果不重复就直接增加一个字符，如果重复就从第一个重复字符的下一个字符开始重新计算\n",
    "    for end in range(len(s)): \n",
    "        if s[end] in sub:\n",
    "            start = sub.index(s[end])+1  #子串中存在一次重复，将子串中第一个重复字符的索引index()找出，在子串中截取（变短）下一个 abc->bc加上a，s[end]表示s中索引为end的值\n",
    "            sub = sub+s[end]  #先将新的重复的加入到子串中，然后截取\n",
    "            sub = sub[start:]   # 字符串截取 a = \"Hello\", a[1:4] 结果为 \"ell\"。字符串截取为中括号，实际为左闭右开\n",
    "            sub_length.append(len(sub))\n",
    "        else:\n",
    "            sub = sub+s[end]   #字符串添加元素可以直接“+”相加 \n",
    "            sub_length.append(len(sub))\n",
    "    max_length = max(sub_length)\n",
    "    return max_length\n",
    "\n",
    "s = \"abcabcbb\"\n",
    "s1 = \"bbbbb\"\n",
    "s2 = \"pwwkew\"\n",
    "s3 = '1203wkds'\n",
    "print(g(s))\n",
    "print(g(s1))\n",
    "print(g(s2))\n",
    "print(g(s3))\n",
    "s4 = '3234235khjkjg'\n",
    "s5 = 'lalal1234565432qwewww7789'\n",
    "print(g(s4))\n",
    "print(g(s5))\n"
   ]
  }
 ],
 "metadata": {
  "kernelspec": {
   "display_name": "base",
   "language": "python",
   "name": "python3"
  },
  "language_info": {
   "codemirror_mode": {
    "name": "ipython",
    "version": 3
   },
   "file_extension": ".py",
   "mimetype": "text/x-python",
   "name": "python",
   "nbconvert_exporter": "python",
   "pygments_lexer": "ipython3",
   "version": "3.9.12"
  }
 },
 "nbformat": 4,
 "nbformat_minor": 2
}
