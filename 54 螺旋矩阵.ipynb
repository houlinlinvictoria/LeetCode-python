{
 "cells": [
  {
   "cell_type": "code",
   "execution_count": 9,
   "metadata": {},
   "outputs": [
    {
     "data": {
      "text/plain": [
       "[1, 2, 3, 6, 9, 8, 7, 4, 5]"
      ]
     },
     "execution_count": 9,
     "metadata": {},
     "output_type": "execute_result"
    }
   ],
   "source": [
    "# 54.螺旋矩阵\n",
    "# 给定一个包含 m x n 个元素的矩阵（m 行, n 列），请按照顺时针螺旋顺序，返回矩阵中的所有元素。\n",
    "\n",
    "def f(matrix):\n",
    "    m = len(matrix)\n",
    "    n = len(matrix[0])\n",
    "    top = 0\n",
    "    right = n-1\n",
    "    bottom = m-1\n",
    "    left  = 0\n",
    "    result = []\n",
    "    #\n",
    "    while True:\n",
    "        for i in range(left, right+1):\n",
    "            result.append(matrix[top][i]) #e.g., m=4,n=3, range(0,3)表示i=0,1,2\n",
    "        top = top + 1  #or top +=1\n",
    "        if top > bottom:\n",
    "            break\n",
    "\n",
    "        for i in range(top, bottom+1):\n",
    "            result.append(matrix[i][right]) # range(1,4)表示i=1,2,3\n",
    "        right  = right -1\n",
    "        if left > right:\n",
    "            break\n",
    "\n",
    "        for i in range(right, left-1, -1):\n",
    "            result.append(matrix[bottom][i]) # range(3,0,-1)表示i=3,2,1,       range(2,-1,-1)表示i=2,1,0\n",
    "        bottom  = bottom -1\n",
    "        if top > bottom:\n",
    "            break\n",
    "\n",
    "        for i in range(bottom, top-1, -1):\n",
    "            result.append(matrix[i][left]) #range(3,0,-1)表示i=3,2,1\n",
    "        left = left + 1\n",
    "        if left > right:\n",
    "            break\n",
    "    return result\n",
    "\n",
    "matrix=[[ 1, 2, 3 ],[ 4, 5, 6 ],[ 7, 8, 9 ]]\n",
    "#输出: [1,2,3,6,9,8,7,4,5]\n",
    "f(matrix)"
   ]
  }
 ],
 "metadata": {
  "kernelspec": {
   "display_name": "base",
   "language": "python",
   "name": "python3"
  },
  "language_info": {
   "codemirror_mode": {
    "name": "ipython",
    "version": 3
   },
   "file_extension": ".py",
   "mimetype": "text/x-python",
   "name": "python",
   "nbconvert_exporter": "python",
   "pygments_lexer": "ipython3",
   "version": "3.9.12"
  }
 },
 "nbformat": 4,
 "nbformat_minor": 2
}
