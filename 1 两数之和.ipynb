{
 "cells": [
  {
   "cell_type": "code",
   "execution_count": 5,
   "metadata": {},
   "outputs": [
    {
     "name": "stdout",
     "output_type": "stream",
     "text": [
      "(0, 1)\n"
     ]
    }
   ],
   "source": [
    "# 给定一个整数数组 nums 和一个目标值 target，请你在该数组中找出和为目标值的那 两个 整数，并返回他们的数组下标。\n",
    "# 你可以假设每种输入只会对应一个答案。但是，数组中同一个元素不能使用两遍。\n",
    "# e.g. 输入：nums = [2,7,11,15], target = 9，输出：[0,1]，解释：因为 nums[0] + nums[1] == 9 ，返回 [0, 1] 。\n",
    "\n",
    "#法1：暴力方法，遍历\n",
    "def f(nums, target):\n",
    "    for i in range(len(nums)):\n",
    "        for j in range(i+1, len(nums)):\n",
    "            if nums[i]+nums[j]==target and nums[i]!=nums[j]:\n",
    "                return i,j\n",
    "            else:\n",
    "                return None\n",
    "\n",
    "nums = [2,7,11,15]\n",
    "target = 9\n",
    "print(f(nums,target))"
   ]
  },
  {
   "cell_type": "code",
   "execution_count": 9,
   "metadata": {},
   "outputs": [
    {
     "name": "stdout",
     "output_type": "stream",
     "text": [
      "[0, 3]\n"
     ]
    }
   ],
   "source": [
    "#法2：哈希表法\n",
    "#哈希表是一个字典，储存数值以及对应的位置，储存不满足两数之和为target的数字（关键在于 target-数值 不在当前哈希表中）。e.g. nums = [6, 3, 8, 2, 1], target = 8\n",
    "#nums中 6之前没有对应的元素，直接将6和下标0存入哈希表。下一个元素是3，target-3=5，5不在哈希表中，将当前遍历到的元素3和对应下标1存入哈希表\n",
    "# 下一个元素是8，target-8=0，0不在哈希表中，将当前遍历到的元素8和对应下标2存入哈希表\n",
    "# 下一个元素是2，target-2=6，6在哈希表中，6和2就是要找的两个元素，对应的下标分别是哈希表中6对应的下标0和当前遍历到的元素的下标3，输出[0, 3]\n",
    "\n",
    "def f(nums, target):\n",
    "    h= dict() #创建一个空字典{'key键'：'value值'，...}，即为哈希表, 键为nums中的数，值为对应的索引下标  dic = {'name': 'Jack', 'age': 18, 'height': 180}\n",
    "    #for i, cur in enumerate(nums)\n",
    "    for i in range(len(nums)):  #也可用enumerate(list)， e.g. seasons = ['Spring', 'Summer', 'Fall', 'Winter']，则 list(enumerate(seasons))为[(0, 'Spring'), (1, 'Summer'), (2, 'Fall'), (3, 'Winter')]\n",
    "        if target-nums[i] in h:\n",
    "            return [h[target-nums[i]], i]  #返回两者和为8的两个索引，即字典的两个值\n",
    "        else:\n",
    "            h[nums[i]]=i #不满足和为8，则字典增加一对数值键\n",
    "#但这里没写同一个元素不能使用两遍\n",
    "nums = [6, 3, 8, 2, 1]\n",
    "target = 8\n",
    "print(f(nums,target))"
   ]
  }
 ],
 "metadata": {
  "kernelspec": {
   "display_name": "base",
   "language": "python",
   "name": "python3"
  },
  "language_info": {
   "codemirror_mode": {
    "name": "ipython",
    "version": 3
   },
   "file_extension": ".py",
   "mimetype": "text/x-python",
   "name": "python",
   "nbconvert_exporter": "python",
   "pygments_lexer": "ipython3",
   "version": "3.9.12"
  }
 },
 "nbformat": 4,
 "nbformat_minor": 2
}
